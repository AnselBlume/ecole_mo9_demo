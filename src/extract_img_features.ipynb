{
 "cells": [
  {
   "cell_type": "markdown",
   "metadata": {},
   "source": [
    "## Visualize K-means clustered ImageNet Images"
   ]
  },
  {
   "cell_type": "code",
   "execution_count": 1,
   "metadata": {},
   "outputs": [],
   "source": [
    "import os\n",
    "import re\n",
    "import json\n",
    "import matplotlib.pyplot as plt\n",
    "from PIL import Image"
   ]
  },
  {
   "cell_type": "code",
   "execution_count": 3,
   "metadata": {},
   "outputs": [
    {
     "name": "stdout",
     "output_type": "stream",
     "text": [
      "['nearest_img_paths_top_k_5-n_10-iter_200.json', 'nearest_img_paths_top_k_5-n_10-iter_1000.json', 'nearest_img_paths_top_k_5-n_100-iter_200.json', 'nearest_img_paths_top_k_5-n_50-iter_200.json', 'nearest_img_paths_top_k_5-n_10-iter_500.json']\n"
     ]
    }
   ],
   "source": [
    "# List all files in the directory and match the specific pattern\n",
    "img_dir = '/shared/nas2/blume5/fa23/ecole/data/imagenet/subset-whole_unit-100'\n",
    "data_dir = './subset-whole_unit-100-index'\n",
    "pattern = re.compile(r'^nearest_img_paths_.*\\.json$')\n",
    "files_matching = [f for f in os.listdir(data_dir) if pattern.match(f)]\n",
    "\n",
    "print(files_matching)"
   ]
  },
  {
   "cell_type": "code",
   "execution_count": 6,
   "metadata": {},
   "outputs": [
    {
     "name": "stdout",
     "output_type": "stream",
     "text": [
      "File: nearest_img_paths_top_k_5-n_10-iter_200.json\n",
      "Num. of Centroids (n) :  10\n",
      "File: nearest_img_paths_top_k_5-n_10-iter_1000.json\n",
      "Num. of Centroids (n) :  10\n",
      "File: nearest_img_paths_top_k_5-n_100-iter_200.json\n",
      "Num. of Centroids (n) :  100\n",
      "File: nearest_img_paths_top_k_5-n_50-iter_200.json\n",
      "Num. of Centroids (n) :  50\n",
      "File: nearest_img_paths_top_k_5-n_10-iter_500.json\n",
      "Num. of Centroids (n) :  10\n"
     ]
    }
   ],
   "source": [
    "# Visualize 'top_k' images per centroid\n",
    "centroid2imgs_list = []\n",
    "for fpath in files_matching:\n",
    "    with open(os.path.join(data_dir, fpath)) as json_reader:\n",
    "        print(f\"File: {fpath}\")\n",
    "        centroid2imgs = json.load(json_reader)\n",
    "        print(f\"Num. of Centroids (n) : \", len(centroid2imgs))\n",
    "        centroid2imgs_list.append(centroid2imgs)"
   ]
  },
  {
   "cell_type": "code",
   "execution_count": null,
   "metadata": {},
   "outputs": [],
   "source": [
    "for centroid2imgs in centroid2imgs_list:\n",
    "    for centroid_idx, image_paths in centroid2imgs.items():\n",
    "        centroid_idx = int(centroid_idx)    \n",
    "        # Load the images\n",
    "        images = [Image.open(path) for path in image_paths]\n",
    "\n",
    "        # Determine the grid size\n",
    "        grid_size = (len(images) // 2, 2) if len(images) % 2 == 0 else (len(images) // 2 + 1, 2)\n",
    "\n",
    "        # Create a matplotlib figure with the determined grid size\n",
    "        fig, axes = plt.subplots(grid_size[0], grid_size[1], figsize=(10, 10))\n",
    "\n",
    "        # Flatten the axes for easy iteration\n",
    "        axes_flat = axes.flatten()\n",
    "\n",
    "        # Display each image in the grid\n",
    "        for i, img in enumerate(images):\n",
    "            axes_flat[i].imshow(img)\n",
    "            axes_flat[i].axis('off')  # Hide the axes\n",
    "\n",
    "        # Hide any unused axes if the number of images is odd\n",
    "        if len(images) % 2 != 0:\n",
    "            axes_flat[-1].axis('off')\n",
    "\n",
    "        # Show the grid of images\n",
    "        plt.tight_layout()\n",
    "        plt.show()"
   ]
  },
  {
   "cell_type": "code",
   "execution_count": null,
   "metadata": {},
   "outputs": [],
   "source": []
  }
 ],
 "metadata": {
  "kernelspec": {
   "display_name": "llava",
   "language": "python",
   "name": "llava"
  },
  "language_info": {
   "codemirror_mode": {
    "name": "ipython",
    "version": 3
   },
   "file_extension": ".py",
   "mimetype": "text/x-python",
   "name": "python",
   "nbconvert_exporter": "python",
   "pygments_lexer": "ipython3",
   "version": "3.10.13"
  }
 },
 "nbformat": 4,
 "nbformat_minor": 2
}
